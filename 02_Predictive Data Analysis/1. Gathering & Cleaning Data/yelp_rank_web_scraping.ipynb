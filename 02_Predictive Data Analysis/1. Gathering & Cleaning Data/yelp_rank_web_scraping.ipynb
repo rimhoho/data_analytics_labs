{
 "cells": [
  {
   "cell_type": "markdown",
   "metadata": {},
   "source": [
    "### Import the Libraries"
   ]
  },
  {
   "cell_type": "code",
   "execution_count": 1,
   "metadata": {},
   "outputs": [],
   "source": [
    "from splinter import Browser\n",
    "from bs4 import BeautifulSoup\n",
    "import os\n",
    "import pandas as pd\n",
    "from datetime import datetime\n",
    "import platform\n",
    "import matplotlib.pyplot as plt"
   ]
  },
  {
   "cell_type": "markdown",
   "metadata": {
    "scrolled": false
   },
   "source": [
    "### Create five functions to scrap data \n",
    "- def init_browser(): Open a new Chrome window (For Window user, you need to download a file named 'chromedriver.exe')\n",
    "\n",
    "- def get_html(browser, url): Get the html of url through new Chrome window\n",
    "- get_data(html): Scrap the data in html (Find the \\<tag> divs or spans, a, p, address with class names) and store them into dictionary\n",
    "- def scrape(browser, url): Call two functions get_html(browser, url) and get_data(html)\n",
    "\n",
    "- def main(): Call two functions init_browser() and scrape(browser, url) and return the dictionary that contain all dataset from url"
   ]
  },
  {
   "cell_type": "code",
   "execution_count": 4,
   "metadata": {},
   "outputs": [
    {
     "data": {
      "text/html": [
       "<div>\n",
       "<style scoped>\n",
       "    .dataframe tbody tr th:only-of-type {\n",
       "        vertical-align: middle;\n",
       "    }\n",
       "\n",
       "    .dataframe tbody tr th {\n",
       "        vertical-align: top;\n",
       "    }\n",
       "\n",
       "    .dataframe thead th {\n",
       "        text-align: right;\n",
       "    }\n",
       "</style>\n",
       "<table border=\"1\" class=\"dataframe\">\n",
       "  <thead>\n",
       "    <tr style=\"text-align: right;\">\n",
       "      <th></th>\n",
       "    </tr>\n",
       "  </thead>\n",
       "  <tbody>\n",
       "  </tbody>\n",
       "</table>\n",
       "</div>"
      ],
      "text/plain": [
       "Empty DataFrame\n",
       "Columns: []\n",
       "Index: []"
      ]
     },
     "execution_count": 4,
     "metadata": {},
     "output_type": "execute_result"
    }
   ],
   "source": [
    "data = {} \n",
    "\n",
    "def init_browser():\n",
    "    if platform.system().lower() == 'windows'.lower():\n",
    "        executable_path = {\n",
    "            'executable_path': \n",
    "            os.path.join(os.getcwd(), 'chromedriver.exe')}\n",
    "        return Browser('chrome', **executable_path, headless=False)\n",
    "    else:\n",
    "        return Browser('chrome')\n",
    "    \n",
    "def get_html(browser, url):\n",
    "    browser.visit(url)\n",
    "    html = browser.html\n",
    "    return html\n",
    "\n",
    "def get_data(html):   \n",
    "    soup = BeautifulSoup(html, \"html.parser\")\n",
    "    ol_lists = soup.find('div', class_='lemon--div__373c0__1mboc mapColumnTransition__373c0__10KHB arrange-unit__373c0__1piwO arrange-unit-fill__373c0__17z0h border-color--default__373c0__2oFDT').find('div', class_='lemon--div__373c0__1mboc border-color--default__373c0__2oFDT').find('ul', class_='lemon--ul__373c0__1_cxs undefined list__373c0__2G8oH')\n",
    "    \n",
    "    ranks = ol_lists.find_all('p', class_='lemon--p__373c0__3Qnnj text__373c0__2pB8f text-color--black-regular__373c0__38bRH text-align--left__373c0__2pnx_ text-size--inherit__373c0__2gFQ3')\n",
    "    title = ol_lists.find_all('a', class_='lemon--a__373c0__IEZFH link__373c0__29943 link-color--blue-dark__373c0__1mhJo link-size--inherit__373c0__2JXk5')\n",
    "    target_bf_rating = ol_lists.find_all('div', class_='lemon--div__373c0__1mboc attribute__373c0__1hPI_ display--inline-block__373c0__2de_K u-space-r1 border-color--default__373c0__2oFDT')\n",
    "    reviews = ol_lists.find_all('span', class_='lemon--span__373c0__3997G text__373c0__2pB8f reviewCount__373c0__2r4xT text-color--mid__373c0__3G312 text-align--left__373c0__2pnx_') \n",
    "    infos = ol_lists.find_all('div', class_='lemon--div__373c0__1mboc mainAttributes__373c0__1r0QA arrange-unit__373c0__1piwO arrange-unit-fill__373c0__17z0h border-color--default__373c0__2oFDT')\n",
    "    addresses = ol_lists.find_all('address', class_='lemon--address__373c0__2sPac')\n",
    "    time = datetime.now()\n",
    "\n",
    "    if len(ranks) > 30 or len(ranks) < 33:\n",
    "        diff = len(ranks) - 30\n",
    "        ranks = ranks[diff:]\n",
    "        target_bf_rating = target_bf_rating[diff:]\n",
    "        infos = infos[diff:]\n",
    "    if len(ranks) == 33:\n",
    "        ranks = ranks[2:-1]\n",
    "        target_bf_rating = target_bf_rating[2:-1]\n",
    "        infos = infos[2:-1]       \n",
    "        \n",
    "    for i in range(len(ranks)):\n",
    "        rank = [p.text.split('.')[0] for p in ranks] \n",
    "        title = [a.a.text for a in ranks]\n",
    "        rating = [a.span.div for a in target_bf_rating if a.span]\n",
    "        num_review = [a.text.split()[0]for a in reviews]\n",
    "        price = [a.div.div.find_next_sibling('div').find_next_sibling('div') for a in infos]\n",
    "        types = [b.find_all('a', class_='lemon--a__373c0__IEZFH link__373c0__29943 link-color--inherit__373c0__15ymx link-size--default__373c0__1skgq') for b in price]\n",
    "\n",
    "        address = [a.div.div.p.span.text for a in addresses]\n",
    "        neighbourhood = [a.find_next_sibling('div') for a in addresses]\n",
    "        \n",
    "        data[rank[i]] = {'title': title[i], \n",
    "                         'rating': rating[i]['aria-label'].split(' ')[0], \n",
    "                         'num_review': num_review[i],\n",
    "                         'price': ''.join([a for a in price[i].div.div.span.span.text if a is '$' or a is '$$' or a is '$$$' or a is '$$$$']),\n",
    "                         'types': [b.text for b in types[i]],\n",
    "                         'address': address[i],\n",
    "                         'neighbourhood': ''.join([a.div.div.p.text for a in neighbourhood[i]]),\n",
    "                         'time': time}        \n",
    "    return target_bf_rating\n",
    "\n",
    "def scrape(browser, url):\n",
    "    html = get_html(browser, url)\n",
    "    datas = get_data(html)\n",
    "    return len(datas), datas[0]\n",
    "\n",
    "def main():\n",
    "    browser = init_browser()\n",
    "    url = \"https://www.yelp.com/search?cflt=restaurants&find_loc=New+York%2C+NY\"\n",
    "#     url = \"https://www.yelp.com/search?cflt=restaurants&find_loc=San+Francisco%2C+CA\"\n",
    "#     url = \"https://www.yelp.com/search?cflt=restaurants&find_loc=Chicago%2C+IL\"\n",
    "    datas = scrape(browser, url)\n",
    "    return datas\n",
    "\n",
    "main()\n",
    "df = pd.DataFrame(data).T\n",
    "df.head()"
   ]
  },
  {
   "cell_type": "markdown",
   "metadata": {},
   "source": [
    "### Make the multiple columns with string value from a column with list value\n",
    "- [types] -> 'type_1', 'type_2', 'type_3'\n",
    "- Drop the column [types]\n",
    "- Make a ranking column from index"
   ]
  },
  {
   "cell_type": "code",
   "execution_count": null,
   "metadata": {
    "scrolled": true
   },
   "outputs": [],
   "source": [
    "df2 = pd.DataFrame(df['types'].values.tolist())\n",
    "df = df.assign(**{'type_1': df2[0].values, 'type_2': df2[1].values, 'type_3': df2[2].values})\n",
    "df = df.drop(['types'], axis=1)\n",
    "df = df.reset_index()\n",
    "df = df.rename(columns = {'index':'ranking'})\n",
    "df.head()"
   ]
  },
  {
   "cell_type": "markdown",
   "metadata": {},
   "source": [
    "### Check data types of the data frame"
   ]
  },
  {
   "cell_type": "code",
   "execution_count": 5,
   "metadata": {
    "scrolled": false
   },
   "outputs": [
    {
     "data": {
      "text/plain": [
       "ranking                  object\n",
       "title                    object\n",
       "rating                   object\n",
       "num_review               object\n",
       "price                    object\n",
       "address                  object\n",
       "neighbourhood            object\n",
       "time             datetime64[ns]\n",
       "type_1                   object\n",
       "type_2                   object\n",
       "type_3                   object\n",
       "dtype: object"
      ]
     },
     "execution_count": 5,
     "metadata": {},
     "output_type": "execute_result"
    }
   ],
   "source": [
    "df.dtypes"
   ]
  },
  {
   "cell_type": "markdown",
   "metadata": {},
   "source": [
    "### Change numuric values to be a int or float"
   ]
  },
  {
   "cell_type": "code",
   "execution_count": 6,
   "metadata": {},
   "outputs": [],
   "source": [
    "df['ranking'] = df['ranking'].astype(int)\n",
    "df['rating'] = df['rating'].astype(float)\n",
    "df['num_review'] = df['num_review'].astype(int)"
   ]
  },
  {
   "cell_type": "markdown",
   "metadata": {},
   "source": [
    "### Change the price values to be a numeric value"
   ]
  },
  {
   "cell_type": "raw",
   "metadata": {},
   "source": [
    "- '$' -> 5 : Take the median value form range of $1 to $9\n",
    "- '$$' -> 55 : Take the median value form range of $10 to $99\n",
    "- '$$$' -> 550 : Take the median value form range of $100 to $999\n",
    "- '$$$$' -> 5500 : Take the median value form range of $1000 to $9999"
   ]
  },
  {
   "cell_type": "code",
   "execution_count": 7,
   "metadata": {},
   "outputs": [
    {
     "name": "stdout",
     "output_type": "stream",
     "text": [
      "    ranking                                        title  rating  num_review  \\\n",
      "0         1                                      Upstate     4.5        1796   \n",
      "1         2                                       Amélie     4.5        2595   \n",
      "2         3                                     LoveMama     4.5        4657   \n",
      "3         4                                   Thai Villa     4.5        2951   \n",
      "4         5                                  Barn Joo 35     4.5        1776   \n",
      "5         6                             Burger & Lobster     4.0        5304   \n",
      "6         7                           Ipanema Restaurant     4.0        1308   \n",
      "7         8                                 Uglyduckling     4.0         463   \n",
      "8         9                                  Aunt Jake’s     4.0        1375   \n",
      "9        10                                       nonono     4.5         557   \n",
      "10       11                                       Jajaja     4.5         832   \n",
      "11       12                                      Ainslie     4.5          70   \n",
      "12       13                             Juanchi’s Burger     4.5         380   \n",
      "13       14                              Juliana’s Pizza     4.5        2100   \n",
      "14       15                                Gelso & Grand     4.5         844   \n",
      "15       16                                   Chama Mama     4.5         160   \n",
      "16       17                               Joe’s Shanghai     4.0        5973   \n",
      "17       18                              Salt + Charcoal     4.0         420   \n",
      "18       19                                 Atrium Dumbo     3.5         654   \n",
      "19       20                                      Anytime     4.5         972   \n",
      "20       21                       Boucherie West Village     4.5        1312   \n",
      "21       22                                      Wok Wok     4.0         888   \n",
      "22       23                                      Up Thai     4.5        2148   \n",
      "23       24                                 Pig and Khao     4.0        1563   \n",
      "24       25                              Jacob’s Pickles     4.0        3941   \n",
      "25       26                   Paesano of Mulberry Street     4.0         807   \n",
      "26       27                                         Raku     4.5         981   \n",
      "27       28                           Tonkatsu Matsunoya     4.0         365   \n",
      "28       29                                   Chow House     4.5         325   \n",
      "29       30  Carmine’s Italian Restaurant - Times Square     4.0        3633   \n",
      "\n",
      "    price            address              neighbourhood  \\\n",
      "0      55         95 1st Ave               East Village   \n",
      "1      55        22 W 8th St          Greenwich Village   \n",
      "2      55        174 2nd Ave               East Village   \n",
      "3      55        5 E 19th St                   Flatiron   \n",
      "4      55       34 W 35th St               Midtown West   \n",
      "5      55       39 W 19th St                   Flatiron   \n",
      "6      55       43 W 46th St               Midtown West   \n",
      "7      55       166 Smith St                Cobble Hill   \n",
      "8      55    149 Mulberry St               Little Italy   \n",
      "9      55    118 Madison Ave               Midtown East   \n",
      "10     55     162 E Broadway            Lower East Side   \n",
      "11     55      76 Ainslie St  Williamsburg - North Side   \n",
      "12     55       225 S 1st St  Williamsburg - South Side   \n",
      "13     55   19 Old Fulton St                      DUMBO   \n",
      "14     55       186 Grand St               Little Italy   \n",
      "15     55      149 W 14th St                    Chelsea   \n",
      "16     55          9 Pell St                  Chinatown   \n",
      "17     55       171 Grand St  Williamsburg - South Side   \n",
      "18     55         15 Main St                      DUMBO   \n",
      "19     55       23 W 32nd St                  Koreatown   \n",
      "20    550       99 7th Ave S               West Village   \n",
      "21     55         11 Mott St                  Chinatown   \n",
      "22     55       1411 2nd Ave            Upper East Side   \n",
      "23     55      68 Clinton St            Lower East Side   \n",
      "24     55  509 Amsterdam Ave            Upper West Side   \n",
      "25     55    136 Mulberry St               Little Italy   \n",
      "26     55       342 E 6th St               East Village   \n",
      "27     55      131 E 45th St               Midtown East   \n",
      "28     55    181 Bleecker St          Greenwich Village   \n",
      "29     55      200 W 44th St           Theater District   \n",
      "\n",
      "                         time                  type_1                 type_2  \\\n",
      "0  2019-10-27 21:33:31.827614                 Seafood              Wine Bars   \n",
      "1  2019-10-27 21:33:31.827614                  French              Wine Bars   \n",
      "2  2019-10-27 21:33:31.827614                    Thai              Malaysian   \n",
      "3  2019-10-27 21:33:31.827614                    Thai           Asian Fusion   \n",
      "4  2019-10-27 21:33:31.827614                  Korean             Gastropubs   \n",
      "5  2019-10-27 21:33:31.827614                 Seafood                Burgers   \n",
      "6  2019-10-27 21:33:31.827614               Brazilian             Portuguese   \n",
      "7  2019-10-27 21:33:31.827614  American (Traditional)             Gastropubs   \n",
      "8  2019-10-27 21:33:31.827614                 Italian              Wine Bars   \n",
      "9  2019-10-27 21:33:31.827614      Tapas/Small Plates                Izakaya   \n",
      "10 2019-10-27 21:33:31.827614                 Mexican                  Vegan   \n",
      "11 2019-10-27 21:33:31.827614            Beer Gardens  Venues & Event Spaces   \n",
      "12 2019-10-27 21:33:31.827614              Gastropubs                Burgers   \n",
      "13 2019-10-27 21:33:31.827614                   Pizza                   None   \n",
      "14 2019-10-27 21:33:31.827614                 Italian            Pasta Shops   \n",
      "15 2019-10-27 21:33:31.827614                Georgian                   None   \n",
      "16 2019-10-27 21:33:31.827614            Shanghainese                Seafood   \n",
      "17 2019-10-27 21:33:31.827614                Japanese           Asian Fusion   \n",
      "18 2019-10-27 21:33:31.827614          American (New)                 French   \n",
      "19 2019-10-27 21:33:31.827614                  Korean         American (New)   \n",
      "20 2019-10-27 21:33:31.827614                  French          Cocktail Bars   \n",
      "21 2019-10-27 21:33:31.827614                 Chinese              Malaysian   \n",
      "22 2019-10-27 21:33:31.827614                    Thai           Asian Fusion   \n",
      "23 2019-10-27 21:33:31.827614                Filipino                   Thai   \n",
      "24 2019-10-27 21:33:31.827614            Comfort Food               Southern   \n",
      "25 2019-10-27 21:33:31.827614                 Italian                  Salad   \n",
      "26 2019-10-27 21:33:31.827614                Japanese                Noodles   \n",
      "27 2019-10-27 21:33:31.827614                Japanese                   None   \n",
      "28 2019-10-27 21:33:31.827614                 Chinese                Noodles   \n",
      "29 2019-10-27 21:33:31.827614                 Italian               Caterers   \n",
      "\n",
      "                    type_3  \n",
      "0                 Beer Bar  \n",
      "1                     None  \n",
      "2               Vietnamese  \n",
      "3                     None  \n",
      "4       Tapas/Small Plates  \n",
      "5           American (New)  \n",
      "6              Steakhouses  \n",
      "7                     None  \n",
      "8              Pasta Shops  \n",
      "9                    Ramen  \n",
      "10                    Bars  \n",
      "11             Restaurants  \n",
      "12                    None  \n",
      "13                    None  \n",
      "14                   Pizza  \n",
      "15                    None  \n",
      "16                    None  \n",
      "17             Steakhouses  \n",
      "18                    None  \n",
      "19      Tapas/Small Plates  \n",
      "20             Steakhouses  \n",
      "21                    Thai  \n",
      "22                    None  \n",
      "23            Asian Fusion  \n",
      "24  American (Traditional)  \n",
      "25                 Seafood  \n",
      "26                    None  \n",
      "27                    None  \n",
      "28                    Soup  \n",
      "29   Venues & Event Spaces  \n"
     ]
    },
    {
     "name": "stderr",
     "output_type": "stream",
     "text": [
      "/Users/hh/.pyenv/versions/3.6.7/lib/python3.6/site-packages/ipykernel_launcher.py:5: SettingWithCopyWarning: \n",
      "A value is trying to be set on a copy of a slice from a DataFrame\n",
      "\n",
      "See the caveats in the documentation: http://pandas.pydata.org/pandas-docs/stable/user_guide/indexing.html#returning-a-view-versus-a-copy\n",
      "  \"\"\"\n",
      "/Users/hh/.pyenv/versions/3.6.7/lib/python3.6/site-packages/ipykernel_launcher.py:7: SettingWithCopyWarning: \n",
      "A value is trying to be set on a copy of a slice from a DataFrame\n",
      "\n",
      "See the caveats in the documentation: http://pandas.pydata.org/pandas-docs/stable/user_guide/indexing.html#returning-a-view-versus-a-copy\n",
      "  import sys\n"
     ]
    }
   ],
   "source": [
    "for i in range(len(df['price'])):\n",
    "    if df['price'][i] == '$':\n",
    "        df['price'][i] = 5\n",
    "    elif df['price'][i] == '$$':\n",
    "        df['price'][i] = 55\n",
    "    elif df['price'][i] == '$$$':\n",
    "        df['price'][i] = 550\n",
    "    elif df['price'][i] == '$$$$':\n",
    "        df['price'][i] = 5500\n",
    "    elif df['price'][i] == '':\n",
    "        df['price'][i] = 0\n",
    "\n",
    "df['price'] = df['price'].astype(int)\n",
    "print(df)"
   ]
  },
  {
   "cell_type": "markdown",
   "metadata": {},
   "source": [
    "### Check data types of the data frame"
   ]
  },
  {
   "cell_type": "code",
   "execution_count": 8,
   "metadata": {
    "scrolled": false
   },
   "outputs": [
    {
     "data": {
      "text/plain": [
       "ranking                   int64\n",
       "title                    object\n",
       "rating                  float64\n",
       "num_review                int64\n",
       "price                     int64\n",
       "address                  object\n",
       "neighbourhood            object\n",
       "time             datetime64[ns]\n",
       "type_1                   object\n",
       "type_2                   object\n",
       "type_3                   object\n",
       "dtype: object"
      ]
     },
     "execution_count": 8,
     "metadata": {},
     "output_type": "execute_result"
    }
   ],
   "source": [
    "df.dtypes"
   ]
  },
  {
   "cell_type": "markdown",
   "metadata": {},
   "source": [
    "### Store three different dataset to CSV files"
   ]
  },
  {
   "cell_type": "code",
   "execution_count": 9,
   "metadata": {},
   "outputs": [],
   "source": [
    "#  export_csv = df.to_csv ('Dataset/Yelp_Ranking_NY.csv', index = None, header=True)\n",
    "export_csv = df.to_csv ('Dataset/Yelp_Ranking_SF.csv', index = None, header=True)\n",
    "# export_csv = df.to_csv ('Dataset/Yelp_Ranking_CHI.csv', index = None, header=True)\n",
    "export_csv"
   ]
  },
  {
   "cell_type": "markdown",
   "metadata": {},
   "source": [
    "### Check the data frame group by neighbourhood adding counts"
   ]
  },
  {
   "cell_type": "code",
   "execution_count": 10,
   "metadata": {},
   "outputs": [
    {
     "name": "stderr",
     "output_type": "stream",
     "text": [
      "/Users/hh/.pyenv/versions/3.6.7/lib/python3.6/site-packages/pandas/core/groupby/generic.py:1455: FutureWarning: using a dict with renaming is deprecated and will be removed\n",
      "in a future version.\n",
      "\n",
      "For column-specific groupby renaming, use named aggregation\n",
      "\n",
      "    >>> df.groupby(...).agg(name=('column', aggfunc))\n",
      "\n",
      "  return super().aggregate(arg, *args, **kwargs)\n"
     ]
    },
    {
     "data": {
      "text/html": [
       "<div>\n",
       "<style scoped>\n",
       "    .dataframe tbody tr th:only-of-type {\n",
       "        vertical-align: middle;\n",
       "    }\n",
       "\n",
       "    .dataframe tbody tr th {\n",
       "        vertical-align: top;\n",
       "    }\n",
       "\n",
       "    .dataframe thead th {\n",
       "        text-align: right;\n",
       "    }\n",
       "</style>\n",
       "<table border=\"1\" class=\"dataframe\">\n",
       "  <thead>\n",
       "    <tr style=\"text-align: right;\">\n",
       "      <th></th>\n",
       "      <th>neighbourhood_name</th>\n",
       "      <th>neighbourhood_count</th>\n",
       "      <th>ranking</th>\n",
       "      <th>rating</th>\n",
       "      <th>num_review</th>\n",
       "      <th>price</th>\n",
       "    </tr>\n",
       "    <tr>\n",
       "      <th>neighbourhood</th>\n",
       "      <th></th>\n",
       "      <th></th>\n",
       "      <th></th>\n",
       "      <th></th>\n",
       "      <th></th>\n",
       "      <th></th>\n",
       "    </tr>\n",
       "  </thead>\n",
       "  <tbody>\n",
       "    <tr>\n",
       "      <td>Chelsea</td>\n",
       "      <td>Chelsea</td>\n",
       "      <td>1</td>\n",
       "      <td>16.000000</td>\n",
       "      <td>4.5</td>\n",
       "      <td>160.0</td>\n",
       "      <td>55</td>\n",
       "    </tr>\n",
       "    <tr>\n",
       "      <td>Chinatown</td>\n",
       "      <td>Chinatown</td>\n",
       "      <td>2</td>\n",
       "      <td>19.500000</td>\n",
       "      <td>4.0</td>\n",
       "      <td>3430.5</td>\n",
       "      <td>55</td>\n",
       "    </tr>\n",
       "    <tr>\n",
       "      <td>Cobble Hill</td>\n",
       "      <td>Cobble Hill</td>\n",
       "      <td>1</td>\n",
       "      <td>8.000000</td>\n",
       "      <td>4.0</td>\n",
       "      <td>463.0</td>\n",
       "      <td>55</td>\n",
       "    </tr>\n",
       "    <tr>\n",
       "      <td>DUMBO</td>\n",
       "      <td>DUMBO</td>\n",
       "      <td>2</td>\n",
       "      <td>16.500000</td>\n",
       "      <td>4.0</td>\n",
       "      <td>1377.0</td>\n",
       "      <td>55</td>\n",
       "    </tr>\n",
       "    <tr>\n",
       "      <td>East Village</td>\n",
       "      <td>East Village</td>\n",
       "      <td>3</td>\n",
       "      <td>10.333333</td>\n",
       "      <td>4.5</td>\n",
       "      <td>2478.0</td>\n",
       "      <td>55</td>\n",
       "    </tr>\n",
       "  </tbody>\n",
       "</table>\n",
       "</div>"
      ],
      "text/plain": [
       "              neighbourhood_name  neighbourhood_count    ranking  rating  \\\n",
       "neighbourhood                                                              \n",
       "Chelsea                  Chelsea                    1  16.000000     4.5   \n",
       "Chinatown              Chinatown                    2  19.500000     4.0   \n",
       "Cobble Hill          Cobble Hill                    1   8.000000     4.0   \n",
       "DUMBO                      DUMBO                    2  16.500000     4.0   \n",
       "East Village        East Village                    3  10.333333     4.5   \n",
       "\n",
       "               num_review  price  \n",
       "neighbourhood                     \n",
       "Chelsea             160.0     55  \n",
       "Chinatown          3430.5     55  \n",
       "Cobble Hill         463.0     55  \n",
       "DUMBO              1377.0     55  \n",
       "East Village       2478.0     55  "
      ]
     },
     "execution_count": 10,
     "metadata": {},
     "output_type": "execute_result"
    }
   ],
   "source": [
    "neighbour_df = df.groupby(['neighbourhood']).agg({'neighbourhood': {'neighbourhood_name':'first', 'neighbourhood_count':'count'}, 'ranking':{'ranking':'mean'}, 'rating':{'rating':'mean'},'num_review':{'num_review':'mean'}, 'price':{'price':'mean'}})\n",
    "neighbour_df.columns = [col[1] for col in neighbour_df.columns]\n",
    "neighbour_df.head()"
   ]
  },
  {
   "cell_type": "code",
   "execution_count": null,
   "metadata": {},
   "outputs": [],
   "source": []
  }
 ],
 "metadata": {
  "kernelspec": {
   "display_name": "Python 3",
   "language": "python",
   "name": "python3"
  },
  "language_info": {
   "codemirror_mode": {
    "name": "ipython",
    "version": 3
   },
   "file_extension": ".py",
   "mimetype": "text/x-python",
   "name": "python",
   "nbconvert_exporter": "python",
   "pygments_lexer": "ipython3",
   "version": "3.6.7"
  }
 },
 "nbformat": 4,
 "nbformat_minor": 2
}
